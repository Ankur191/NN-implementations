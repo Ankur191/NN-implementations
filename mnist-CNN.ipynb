{
 "cells": [
  {
   "cell_type": "code",
   "execution_count": 3,
   "id": "fb84648b",
   "metadata": {},
   "outputs": [],
   "source": [
    "import cv2\n",
    "import numpy as np\n",
    "import os\n",
    "from tensorflow.keras.preprocessing.image import ImageDataGenerator\n",
    "from keras import backend as K\n",
    "import keras\n",
    "from keras.models import Sequential, Model,load_model\n",
    "from keras.optimizers import SGD\n",
    "from keras.callbacks import EarlyStopping,ModelCheckpoint\n",
    "from keras.layers import Input, Add, Dense, Activation, ZeroPadding2D, BatchNormalization, Flatten, Conv2D, AveragePooling2D, MaxPooling2D, GlobalMaxPooling2D,MaxPool2D\n",
    "from keras.preprocessing import image\n",
    "from keras.initializers import glorot_uniform\n",
    "import re"
   ]
  },
  {
   "cell_type": "code",
   "execution_count": 2,
   "id": "73e88293",
   "metadata": {},
   "outputs": [],
   "source": [
    "train_path=\"C:/Users/Admin/Desktop/Khatra/cats\"\n",
    "test_path=\"C:/Users/Admin/Desktop/Khatra/cats\"\n",
    "class_names=os.listdir(train_path)\n",
    "class_names_test=os.listdir(test_path)"
   ]
  },
  {
   "cell_type": "code",
   "execution_count": 3,
   "id": "0ae57ddd",
   "metadata": {},
   "outputs": [],
   "source": [
    "for i in range(len(class_names)):\n",
    "     class_names[i]= \" \".join(re.findall(\"[a-z]+\", class_names[i]))"
   ]
  },
  {
   "cell_type": "code",
   "execution_count": 4,
   "id": "36acf3a6",
   "metadata": {},
   "outputs": [],
   "source": [
    "for i in range(len(class_names_test)):\n",
    "     class_names_test[i]= \" \".join(re.findall(\"[a-z]+\", class_names_test[i]))"
   ]
  },
  {
   "cell_type": "code",
   "execution_count": 5,
   "id": "3944ce22",
   "metadata": {},
   "outputs": [],
   "source": [
    "train_datagen = ImageDataGenerator(zoom_range=0.15,width_shift_range=0.2,height_shift_range=0.2,shear_range=0.15)\n",
    "test_datagen = ImageDataGenerator()"
   ]
  },
  {
   "cell_type": "code",
   "execution_count": 17,
   "id": "e5971f42",
   "metadata": {},
   "outputs": [
    {
     "name": "stdout",
     "output_type": "stream",
     "text": [
      "Found 0 images belonging to 0 classes.\n",
      "Found 0 images belonging to 0 classes.\n"
     ]
    }
   ],
   "source": [
    "train_generator = train_datagen.flow_from_directory(\"C:/Users/Admin/Desktop/Khatra/cats\",target_size=(280, 300,3),batch_size=32,shuffle=True,class_mode='binary')\n",
    "test_generator = test_datagen.flow_from_directory(\"C:/Users/Admin/Desktop/Khatra/cats\",target_size=(224,224),batch_size=32,shuffle=False,class_mode='binary')"
   ]
  },
  {
   "cell_type": "code",
   "execution_count": 7,
   "id": "3d1ee486",
   "metadata": {},
   "outputs": [],
   "source": [
    "data=\"C:/Users/Admin/Desktop/Khatra/cats/cat 1.jpg\""
   ]
  },
  {
   "cell_type": "code",
   "execution_count": 15,
   "id": "0124bb82",
   "metadata": {},
   "outputs": [
    {
     "data": {
      "text/plain": [
       "(280, 300, 3)"
      ]
     },
     "execution_count": 15,
     "metadata": {},
     "output_type": "execute_result"
    }
   ],
   "source": [
    "d=cv2.imread(\"cats/cat.1.jpg\")\n",
    "d.shape"
   ]
  },
  {
   "cell_type": "code",
   "execution_count": null,
   "id": "7ce34b53",
   "metadata": {},
   "outputs": [],
   "source": []
  }
 ],
 "metadata": {
  "kernelspec": {
   "display_name": "Python 3 (ipykernel)",
   "language": "python",
   "name": "python3"
  },
  "language_info": {
   "codemirror_mode": {
    "name": "ipython",
    "version": 3
   },
   "file_extension": ".py",
   "mimetype": "text/x-python",
   "name": "python",
   "nbconvert_exporter": "python",
   "pygments_lexer": "ipython3",
   "version": "3.9.12"
  }
 },
 "nbformat": 4,
 "nbformat_minor": 5
}
